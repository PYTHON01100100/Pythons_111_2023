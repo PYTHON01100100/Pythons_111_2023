{
  "nbformat": 4,
  "nbformat_minor": 0,
  "metadata": {
    "colab": {
      "provenance": []
    },
    "kernelspec": {
      "name": "python3",
      "display_name": "Python 3"
    },
    "language_info": {
      "name": "python"
    }
  },
  "cells": [
    {
      "cell_type": "markdown",
      "source": [
        "**python tutorial**\n",
        "\n",
        "https://www.youtube.com/playlist?list=PLuXY3ddo_8nzrO74UeZQVZOb5-wIS6krJ\n",
        "\n",
        "https://satr.codes/paths/zaNuCyeqGx/view"
      ],
      "metadata": {
        "id": "59OsOxObyMSt"
      }
    },
    {
      "cell_type": "code",
      "source": [
        "print(\"Go homr Yan__kee\")"
      ],
      "metadata": {
        "colab": {
          "base_uri": "https://localhost:8080/"
        },
        "id": "doSOxGTxHHiI",
        "outputId": "65d66875-46ab-4a09-a1f6-b13e9d2c3538"
      },
      "execution_count": null,
      "outputs": [
        {
          "output_type": "stream",
          "name": "stdout",
          "text": [
            "Go homr Yan__kee\n"
          ]
        }
      ]
    },
    {
      "cell_type": "code",
      "source": [
        "from math import *\n",
        "import math\n",
        "print(\"max([1,4,5,7) : \"+str(max([1,4,5,7]))) # or direct 5,6,7\n",
        "print(\"min([1,4,5,7,-5,0]) : \"+str(min([1,4,5,7,-5,0])))\n",
        "print(\"sum([1,4,5,7,-5,0]) : \"+str(sum([1,4,5,7,-5,0])))\n",
        "print(\"abs(-5) : \"+str(abs(-5)))\n",
        "#from math import *\n",
        "print(\"ceil(3.8) : \"+str(ceil(3.8)))\n",
        "print(\"floor(3.8) : \"+str(floor(3.8)))\n",
        "print(\"sqrt(36) : \"+str(sqrt(36)))\n",
        "print(\"pow(2,4) : \"+str(pow(2,4)))\n",
        "print(\"round(3.4) : \"+str(round(3.4)))\n",
        "print(\"round(3.5) : \"+str(round(3.5)))\n",
        "print(\"====================================\")\n",
        "print(\"math.remainder(26,5) : \"+str(math.remainder(26,5)))\n",
        "print(\"math.gcd(26,5) : \"+str(math.gcd(26,5)))\n",
        "print(\"math.lcm(26,5) : \"+str(math.lcm(26,5)))\n",
        "print(\"math.pi : \"+str(math.pi))\n",
        "print(\"math.e : \"+str(math.e))\n",
        "print(\"math.sin(math.pi/2) : \"+str(math.sin(math.pi/2)))\n",
        "print(\"math.cos(math.pi/2) : \"+str(math.cos(math.pi/2)))\n",
        "print(\"math.tan(math.pi/2) : \"+str(math.tan(math.pi/2)))\n",
        "print(\"math.degrees(math.pi/2) : \"+str(math.degrees(math.pi/2)))\n",
        "print(\"math.radians(180) : \"+str(math.radians(180)))\n",
        "print(\"math.factorial(5) : \"+str(math.factorial(5)))\n",
        "print(\"math.factorial(5) : \"+str(math.factorial(5)))"
      ],
      "metadata": {
        "colab": {
          "base_uri": "https://localhost:8080/"
        },
        "id": "yeWm5oXVHRUw",
        "outputId": "e2c2262d-296b-45c7-b22e-385853105669"
      },
      "execution_count": null,
      "outputs": [
        {
          "output_type": "stream",
          "name": "stdout",
          "text": [
            "max([1,4,5,7) : 7\n",
            "min([1,4,5,7,-5,0]) : -5\n",
            "sum([1,4,5,7,-5,0]) : 12\n",
            "abs(-5) : 5\n",
            "ceil(3.8) : 4\n",
            "floor(3.8) : 3\n",
            "sqrt(36) : 6.0\n",
            "pow(2,4) : 16.0\n",
            "round(3.4) : 3\n",
            "round(3.5) : 4\n",
            "====================================\n",
            "math.remainder(26,5) : 1.0\n",
            "math.gcd(26,5) : 1\n",
            "math.lcm(26,5) : 130\n",
            "math.pi : 3.141592653589793\n",
            "math.e : 2.718281828459045\n",
            "math.sin(math.pi/2) : 1.0\n",
            "math.cos(math.pi/2) : 6.123233995736766e-17\n",
            "math.tan(math.pi/2) : 1.633123935319537e+16\n",
            "math.degrees(math.pi/2) : 90.0\n",
            "math.radians(180) : 3.141592653589793\n",
            "math.factorial(5) : 120\n",
            "math.factorial(5) : 120\n"
          ]
        }
      ]
    },
    {
      "cell_type": "code",
      "source": [
        "csDep =[\"311\",\"227\",\"220\"]\n",
        "seDep =[\"380\",\"215\",\"225\",\"115\"]\n",
        "isDep = csDep # not copy() but like\n",
        "\"\"\"\n",
        "In Python, when you assign one list to another using the assignment operator (=),\n",
        "you are not creating a copy of the list. Instead, you are creating a new reference to the same list object in memory.\n",
        "This means that both variables will point to the same list,\n",
        "and any modifications made through one variable will be reflected in the other.\n",
        "This is known as creating an alias.\n",
        "\"\"\"\n",
        "print(isDep)\n",
        "csDep +=seDep # same csDep.extend(seDep)\n",
        "print(csDep)\n",
        "csDep.remove(\"220\")\n",
        "csDep.append(\"2220\") #\n",
        "print(isDep)\n",
        "csDep.insert(0,\"220\")\n",
        "print(isDep)\n",
        "isDep.clear()\n",
        "print(csDep)\n",
        "print(seDep.index(\"115\"))\n",
        "print(seDep.count(\"115\"))\n",
        "print(seDep.pop())\n",
        "print(seDep)\n",
        "print(seDep.reverse())\n",
        "print(seDep)\n",
        "print(seDep.sort())\n",
        "print(seDep)"
      ],
      "metadata": {
        "colab": {
          "base_uri": "https://localhost:8080/"
        },
        "id": "i952HJDrMJVn",
        "outputId": "5275f205-e73f-41ed-ece7-41accc753c96"
      },
      "execution_count": null,
      "outputs": [
        {
          "output_type": "stream",
          "name": "stdout",
          "text": [
            "['311', '227', '220']\n",
            "['311', '227', '220', '380', '215', '225', '115']\n",
            "['311', '227', '380', '215', '225', '115', '2220']\n",
            "['220', '311', '227', '380', '215', '225', '115', '2220']\n",
            "[]\n",
            "3\n",
            "1\n",
            "115\n",
            "['380', '215', '225']\n",
            "None\n",
            "['225', '215', '380']\n",
            "None\n",
            "['215', '225', '380']\n"
          ]
        }
      ]
    },
    {
      "cell_type": "markdown",
      "source": [
        "In Python, when you assign one list to another using the assignment operator (`=`), you are not creating a copy of the list. Instead, you are creating a new reference to the same list object in memory. This means that both variables will point to the same list, and any modifications made through one variable will be reflected in the other. This is known as creating an alias.\n",
        "\n",
        "Here’s a detailed explanation:\n",
        "\n",
        "1. **Original Lists**:\n",
        "    ```python\n",
        "    csDep = [\"311\", \"227\", \"220\"]\n",
        "    seDep = [\"380\", \"215\", \"225\", \"115\"]\n",
        "    ```\n",
        "\n",
        "2. **Assignment without Copy**:\n",
        "    ```python\n",
        "    isDep = csDep\n",
        "    ```\n",
        "    - At this point, `isDep` is not a new list. It is a reference to the same list that `csDep` points to.\n",
        "    - Both `isDep` and `csDep` now point to the same list in memory.\n",
        "\n",
        "3. **Implications**:\n",
        "    - If you modify the list using `csDep`, the changes will also be seen when accessing the list through `isDep`.\n",
        "    - Similarly, if you modify the list using `isDep`, the changes will also be seen when accessing the list through `csDep`.\n",
        "\n",
        "4. **Example**:\n",
        "    ```python\n",
        "    csDep.append(\"330\")\n",
        "    print(csDep)  # Output: [\"311\", \"227\", \"220\", \"330\"]\n",
        "    print(isDep)  # Output: [\"311\", \"227\", \"220\", \"330\"]\n",
        "    ```\n",
        "    - Both `csDep` and `isDep` reflect the change because they point to the same list.\n",
        "\n",
        "5. **Explanation**:\n",
        "    - **Memory Reference**: When you assign `isDep = csDep`, you are not copying the contents of `csDep` into `isDep`. Instead, `isDep` gets the memory address of the list that `csDep` points to.\n",
        "    - **Alias**: This creates an alias, where `isDep` and `csDep` are two names for the same list.\n",
        "\n",
        "### Diagram\n",
        "Here's a visual representation of what's happening:\n",
        "\n",
        "```\n",
        "Initial state:\n",
        "csDep --> [\"311\", \"227\", \"220\"]\n",
        "seDep --> [\"380\", \"215\", \"225\", \"115\"]\n",
        "\n",
        "After isDep = csDep:\n",
        "csDep --> [\"311\", \"227\", \"220\"]\n",
        "          ^\n",
        "          |\n",
        "isDep ----|\n",
        "\n",
        "seDep --> [\"380\", \"215\", \"225\", \"115\"]\n",
        "```\n",
        "\n",
        "### To Create a Copy\n",
        "\n",
        "If you want `isDep` to be a separate list with the same contents as `csDep` (i.e., a copy), you can use:\n",
        "\n",
        "1. **Slicing**:\n",
        "    ```python\n",
        "    isDep = csDep[:]\n",
        "    ```\n",
        "\n",
        "2. **`list` Constructor**:\n",
        "    ```python\n",
        "    isDep = list(csDep)\n",
        "    ```\n",
        "\n",
        "3. **`copy` Method** (Python 3.3+):\n",
        "    ```python\n",
        "    isDep = csDep.copy()\n",
        "    ```\n",
        "\n",
        "Using any of these methods creates a new list in memory with the same elements as `csDep`, so modifications to one list will not affect the other."
      ],
      "metadata": {
        "id": "YRFURnXo2gd9"
      }
    },
    {
      "cell_type": "markdown",
      "source": [
        "In Python, tuples and lists are both used to store collections of items. However, they have several key differences that affect their usage and behavior. Here are the main distinctions between tuples and lists:\n",
        "\n",
        "### 1. **Mutability**\n",
        "- **List**: Lists are mutable, which means that you can modify their contents (e.g., add, remove, or change items).\n",
        "  ```python\n",
        "  my_list = [1, 2, 3]\n",
        "  my_list.append(4)     # my_list is now [1, 2, 3, 4]\n",
        "  my_list[0] = 10       # my_list is now [10, 2, 3, 4]\n",
        "  ```\n",
        "- **Tuple**: Tuples are immutable, which means once they are created, you cannot change their contents.\n",
        "  ```python\n",
        "  my_tuple = (1, 2, 3)\n",
        "  # my_tuple.append(4)   # This will raise an AttributeError\n",
        "  # my_tuple[0] = 10     # This will raise a TypeError\n",
        "  ```\n",
        "\n",
        "### 2. **Syntax**\n",
        "- **List**: Lists are defined using square brackets `[]`.\n",
        "  ```python\n",
        "  my_list = [1, 2, 3]\n",
        "  ```\n",
        "- **Tuple**: Tuples are defined using parentheses `()`.\n",
        "  ```python\n",
        "  my_tuple = (1, 2, 3)\n",
        "  ```\n",
        "\n",
        "### 3. **Performance**\n",
        "- **List**: Due to their mutability, lists generally have a bit more overhead than tuples.\n",
        "- **Tuple**: Tuples, being immutable, can be more memory efficient and faster for certain operations, especially when used as keys in dictionaries.\n",
        "\n",
        "### 4. **Use Cases**\n",
        "- **List**: Use lists when you need a collection of items that can change over time.\n",
        "  ```python\n",
        "  my_list = [\"apple\", \"banana\", \"cherry\"]\n",
        "  my_list.append(\"date\")\n",
        "  ```\n",
        "- **Tuple**: Use tuples when you need a collection of items that should not change, such as fixed collections of different types of data.\n",
        "  ```python\n",
        "  person = (\"John\", \"Doe\", 30)\n",
        "  ```\n",
        "\n",
        "### 5. **Methods**\n",
        "- **List**: Lists have a variety of methods for modifying the contents, such as `append()`, `remove()`, `pop()`, and `sort()`.\n",
        "  ```python\n",
        "  my_list = [3, 1, 2]\n",
        "  my_list.sort()    # my_list is now [1, 2, 3]\n",
        "  ```\n",
        "- **Tuple**: Tuples have very few methods, primarily `count()` and `index()`, because they do not support modifications.\n",
        "  ```python\n",
        "  my_tuple = (1, 2, 3, 2)\n",
        "  count_of_twos = my_tuple.count(2)  # Returns 2\n",
        "  index_of_three = my_tuple.index(3)  # Returns 2\n",
        "  ```\n",
        "\n",
        "### 6. **Conversion**\n",
        "- **List to Tuple**: You can convert a list to a tuple using the `tuple()` function.\n",
        "  ```python\n",
        "  my_list = [1, 2, 3]\n",
        "  my_tuple = tuple(my_list)  # my_tuple is (1, 2, 3)\n",
        "  ```\n",
        "- **Tuple to List**: You can convert a tuple to a list using the `list()` function.\n",
        "  ```python\n",
        "  my_tuple = (1, 2, 3)\n",
        "  my_list = list(my_tuple)  # my_list is [1, 2, 3]\n",
        "  ```\n",
        "\n",
        "### 7. **Hashability**\n",
        "- **List**: Lists are not hashable because they are mutable. This means they cannot be used as keys in dictionaries or elements in sets.\n",
        "  ```python\n",
        "  my_dict = {}\n",
        "  # my_dict[[1, 2, 3]] = \"value\"  # This will raise a TypeError\n",
        "  ```\n",
        "- **Tuple**: Tuples are hashable if all their elements are hashable, making them suitable for use as dictionary keys and set elements.\n",
        "  ```python\n",
        "  my_dict = {}\n",
        "  my_dict[(1, 2, 3)] = \"value\"  # This is valid\n",
        "  ```\n",
        "\n",
        "In summary, use lists when you need a mutable collection of items and tuples when you need an immutable collection. The choice between using a list or a tuple depends on the specific requirements of your program regarding mutability, performance, and intended use."
      ],
      "metadata": {
        "id": "goM_yUTM2aUT"
      }
    },
    {
      "cell_type": "code",
      "execution_count": null,
      "metadata": {
        "colab": {
          "base_uri": "https://localhost:8080/"
        },
        "id": "6SdZaRB7yLZF",
        "outputId": "86ec5c72-b22b-446a-c88c-ebf1091dde4c"
      },
      "outputs": [
        {
          "output_type": "stream",
          "name": "stdout",
          "text": [
            "                                  2025\n",
            "\n",
            "      January                   February                   March\n",
            "Mo Tu We Th Fr Sa Su      Mo Tu We Th Fr Sa Su      Mo Tu We Th Fr Sa Su\n",
            "       1  2  3  4  5                      1  2                      1  2\n",
            " 6  7  8  9 10 11 12       3  4  5  6  7  8  9       3  4  5  6  7  8  9\n",
            "13 14 15 16 17 18 19      10 11 12 13 14 15 16      10 11 12 13 14 15 16\n",
            "20 21 22 23 24 25 26      17 18 19 20 21 22 23      17 18 19 20 21 22 23\n",
            "27 28 29 30 31            24 25 26 27 28            24 25 26 27 28 29 30\n",
            "                                                    31\n",
            "\n",
            "       April                      May                       June\n",
            "Mo Tu We Th Fr Sa Su      Mo Tu We Th Fr Sa Su      Mo Tu We Th Fr Sa Su\n",
            "    1  2  3  4  5  6                1  2  3  4                         1\n",
            " 7  8  9 10 11 12 13       5  6  7  8  9 10 11       2  3  4  5  6  7  8\n",
            "14 15 16 17 18 19 20      12 13 14 15 16 17 18       9 10 11 12 13 14 15\n",
            "21 22 23 24 25 26 27      19 20 21 22 23 24 25      16 17 18 19 20 21 22\n",
            "28 29 30                  26 27 28 29 30 31         23 24 25 26 27 28 29\n",
            "                                                    30\n",
            "\n",
            "        July                     August                  September\n",
            "Mo Tu We Th Fr Sa Su      Mo Tu We Th Fr Sa Su      Mo Tu We Th Fr Sa Su\n",
            "    1  2  3  4  5  6                   1  2  3       1  2  3  4  5  6  7\n",
            " 7  8  9 10 11 12 13       4  5  6  7  8  9 10       8  9 10 11 12 13 14\n",
            "14 15 16 17 18 19 20      11 12 13 14 15 16 17      15 16 17 18 19 20 21\n",
            "21 22 23 24 25 26 27      18 19 20 21 22 23 24      22 23 24 25 26 27 28\n",
            "28 29 30 31               25 26 27 28 29 30 31      29 30\n",
            "\n",
            "      October                   November                  December\n",
            "Mo Tu We Th Fr Sa Su      Mo Tu We Th Fr Sa Su      Mo Tu We Th Fr Sa Su\n",
            "       1  2  3  4  5                      1  2       1  2  3  4  5  6  7\n",
            " 6  7  8  9 10 11 12       3  4  5  6  7  8  9       8  9 10 11 12 13 14\n",
            "13 14 15 16 17 18 19      10 11 12 13 14 15 16      15 16 17 18 19 20 21\n",
            "20 21 22 23 24 25 26      17 18 19 20 21 22 23      22 23 24 25 26 27 28\n",
            "27 28 29 30 31            24 25 26 27 28 29 30      29 30 31\n"
          ]
        }
      ],
      "source": [
        "# calendar هنا قمنا بتضمين كل محتوى الموديول\n",
        "# https://harmash.com/tutorials/python/date-and-time\n",
        "import calendar\n",
        "# لعرض تقويم سنة 2018 calendar من الكلاس prcal() هنا قمنا باستدعاء الدالة\n",
        "calendar.prcal(2025)"
      ]
    },
    {
      "cell_type": "markdown",
      "source": [
        "https://harmash.com/tutorials/python/dictionaries"
      ],
      "metadata": {
        "id": "75TtnDoMldRl"
      }
    },
    {
      "cell_type": "code",
      "source": [],
      "metadata": {
        "id": "90V5m9GLYk5h"
      },
      "execution_count": null,
      "outputs": []
    }
  ]
}